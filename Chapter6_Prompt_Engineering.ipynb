{
  "nbformat": 4,
  "nbformat_minor": 0,
  "metadata": {
    "colab": {
      "provenance": [],
      "gpuType": "T4",
      "authorship_tag": "ABX9TyPZaLK9wN1icdmThlHIFqm0",
      "include_colab_link": true
    },
    "kernelspec": {
      "name": "python3",
      "display_name": "Python 3"
    },
    "language_info": {
      "name": "python"
    },
    "accelerator": "GPU",
    "widgets": {
      "application/vnd.jupyter.widget-state+json": {
        "d1212ef350b44afc9789f560112f4c15": {
          "model_module": "@jupyter-widgets/controls",
          "model_name": "HBoxModel",
          "model_module_version": "1.5.0",
          "state": {
            "_dom_classes": [],
            "_model_module": "@jupyter-widgets/controls",
            "_model_module_version": "1.5.0",
            "_model_name": "HBoxModel",
            "_view_count": null,
            "_view_module": "@jupyter-widgets/controls",
            "_view_module_version": "1.5.0",
            "_view_name": "HBoxView",
            "box_style": "",
            "children": [
              "IPY_MODEL_04f1642890344c4c8ed4d840a314a61e",
              "IPY_MODEL_5357b248d18b4bbd916b91c86a3d20de",
              "IPY_MODEL_a0c10ebf4f7743ef934457788e0a426e"
            ],
            "layout": "IPY_MODEL_358b9ae128184e80a0aff0494700dba6"
          }
        },
        "04f1642890344c4c8ed4d840a314a61e": {
          "model_module": "@jupyter-widgets/controls",
          "model_name": "HTMLModel",
          "model_module_version": "1.5.0",
          "state": {
            "_dom_classes": [],
            "_model_module": "@jupyter-widgets/controls",
            "_model_module_version": "1.5.0",
            "_model_name": "HTMLModel",
            "_view_count": null,
            "_view_module": "@jupyter-widgets/controls",
            "_view_module_version": "1.5.0",
            "_view_name": "HTMLView",
            "description": "",
            "description_tooltip": null,
            "layout": "IPY_MODEL_0c861b4b74a84d4188ca47314a3d8c24",
            "placeholder": "​",
            "style": "IPY_MODEL_e043f7df245d45348f2213ecc4b99950",
            "value": "Loading checkpoint shards: 100%"
          }
        },
        "5357b248d18b4bbd916b91c86a3d20de": {
          "model_module": "@jupyter-widgets/controls",
          "model_name": "FloatProgressModel",
          "model_module_version": "1.5.0",
          "state": {
            "_dom_classes": [],
            "_model_module": "@jupyter-widgets/controls",
            "_model_module_version": "1.5.0",
            "_model_name": "FloatProgressModel",
            "_view_count": null,
            "_view_module": "@jupyter-widgets/controls",
            "_view_module_version": "1.5.0",
            "_view_name": "ProgressView",
            "bar_style": "success",
            "description": "",
            "description_tooltip": null,
            "layout": "IPY_MODEL_f1f6a597e76a42d49b9046bd5478f445",
            "max": 2,
            "min": 0,
            "orientation": "horizontal",
            "style": "IPY_MODEL_bfeae28b5c5049b0abe5bedc01026e5e",
            "value": 2
          }
        },
        "a0c10ebf4f7743ef934457788e0a426e": {
          "model_module": "@jupyter-widgets/controls",
          "model_name": "HTMLModel",
          "model_module_version": "1.5.0",
          "state": {
            "_dom_classes": [],
            "_model_module": "@jupyter-widgets/controls",
            "_model_module_version": "1.5.0",
            "_model_name": "HTMLModel",
            "_view_count": null,
            "_view_module": "@jupyter-widgets/controls",
            "_view_module_version": "1.5.0",
            "_view_name": "HTMLView",
            "description": "",
            "description_tooltip": null,
            "layout": "IPY_MODEL_150380942fe54b2ea99f669b0a157bdd",
            "placeholder": "​",
            "style": "IPY_MODEL_5fcf5ac8945d42abb6430a118df83a51",
            "value": " 2/2 [00:35&lt;00:00, 16.58s/it]"
          }
        },
        "358b9ae128184e80a0aff0494700dba6": {
          "model_module": "@jupyter-widgets/base",
          "model_name": "LayoutModel",
          "model_module_version": "1.2.0",
          "state": {
            "_model_module": "@jupyter-widgets/base",
            "_model_module_version": "1.2.0",
            "_model_name": "LayoutModel",
            "_view_count": null,
            "_view_module": "@jupyter-widgets/base",
            "_view_module_version": "1.2.0",
            "_view_name": "LayoutView",
            "align_content": null,
            "align_items": null,
            "align_self": null,
            "border": null,
            "bottom": null,
            "display": null,
            "flex": null,
            "flex_flow": null,
            "grid_area": null,
            "grid_auto_columns": null,
            "grid_auto_flow": null,
            "grid_auto_rows": null,
            "grid_column": null,
            "grid_gap": null,
            "grid_row": null,
            "grid_template_areas": null,
            "grid_template_columns": null,
            "grid_template_rows": null,
            "height": null,
            "justify_content": null,
            "justify_items": null,
            "left": null,
            "margin": null,
            "max_height": null,
            "max_width": null,
            "min_height": null,
            "min_width": null,
            "object_fit": null,
            "object_position": null,
            "order": null,
            "overflow": null,
            "overflow_x": null,
            "overflow_y": null,
            "padding": null,
            "right": null,
            "top": null,
            "visibility": null,
            "width": null
          }
        },
        "0c861b4b74a84d4188ca47314a3d8c24": {
          "model_module": "@jupyter-widgets/base",
          "model_name": "LayoutModel",
          "model_module_version": "1.2.0",
          "state": {
            "_model_module": "@jupyter-widgets/base",
            "_model_module_version": "1.2.0",
            "_model_name": "LayoutModel",
            "_view_count": null,
            "_view_module": "@jupyter-widgets/base",
            "_view_module_version": "1.2.0",
            "_view_name": "LayoutView",
            "align_content": null,
            "align_items": null,
            "align_self": null,
            "border": null,
            "bottom": null,
            "display": null,
            "flex": null,
            "flex_flow": null,
            "grid_area": null,
            "grid_auto_columns": null,
            "grid_auto_flow": null,
            "grid_auto_rows": null,
            "grid_column": null,
            "grid_gap": null,
            "grid_row": null,
            "grid_template_areas": null,
            "grid_template_columns": null,
            "grid_template_rows": null,
            "height": null,
            "justify_content": null,
            "justify_items": null,
            "left": null,
            "margin": null,
            "max_height": null,
            "max_width": null,
            "min_height": null,
            "min_width": null,
            "object_fit": null,
            "object_position": null,
            "order": null,
            "overflow": null,
            "overflow_x": null,
            "overflow_y": null,
            "padding": null,
            "right": null,
            "top": null,
            "visibility": null,
            "width": null
          }
        },
        "e043f7df245d45348f2213ecc4b99950": {
          "model_module": "@jupyter-widgets/controls",
          "model_name": "DescriptionStyleModel",
          "model_module_version": "1.5.0",
          "state": {
            "_model_module": "@jupyter-widgets/controls",
            "_model_module_version": "1.5.0",
            "_model_name": "DescriptionStyleModel",
            "_view_count": null,
            "_view_module": "@jupyter-widgets/base",
            "_view_module_version": "1.2.0",
            "_view_name": "StyleView",
            "description_width": ""
          }
        },
        "f1f6a597e76a42d49b9046bd5478f445": {
          "model_module": "@jupyter-widgets/base",
          "model_name": "LayoutModel",
          "model_module_version": "1.2.0",
          "state": {
            "_model_module": "@jupyter-widgets/base",
            "_model_module_version": "1.2.0",
            "_model_name": "LayoutModel",
            "_view_count": null,
            "_view_module": "@jupyter-widgets/base",
            "_view_module_version": "1.2.0",
            "_view_name": "LayoutView",
            "align_content": null,
            "align_items": null,
            "align_self": null,
            "border": null,
            "bottom": null,
            "display": null,
            "flex": null,
            "flex_flow": null,
            "grid_area": null,
            "grid_auto_columns": null,
            "grid_auto_flow": null,
            "grid_auto_rows": null,
            "grid_column": null,
            "grid_gap": null,
            "grid_row": null,
            "grid_template_areas": null,
            "grid_template_columns": null,
            "grid_template_rows": null,
            "height": null,
            "justify_content": null,
            "justify_items": null,
            "left": null,
            "margin": null,
            "max_height": null,
            "max_width": null,
            "min_height": null,
            "min_width": null,
            "object_fit": null,
            "object_position": null,
            "order": null,
            "overflow": null,
            "overflow_x": null,
            "overflow_y": null,
            "padding": null,
            "right": null,
            "top": null,
            "visibility": null,
            "width": null
          }
        },
        "bfeae28b5c5049b0abe5bedc01026e5e": {
          "model_module": "@jupyter-widgets/controls",
          "model_name": "ProgressStyleModel",
          "model_module_version": "1.5.0",
          "state": {
            "_model_module": "@jupyter-widgets/controls",
            "_model_module_version": "1.5.0",
            "_model_name": "ProgressStyleModel",
            "_view_count": null,
            "_view_module": "@jupyter-widgets/base",
            "_view_module_version": "1.2.0",
            "_view_name": "StyleView",
            "bar_color": null,
            "description_width": ""
          }
        },
        "150380942fe54b2ea99f669b0a157bdd": {
          "model_module": "@jupyter-widgets/base",
          "model_name": "LayoutModel",
          "model_module_version": "1.2.0",
          "state": {
            "_model_module": "@jupyter-widgets/base",
            "_model_module_version": "1.2.0",
            "_model_name": "LayoutModel",
            "_view_count": null,
            "_view_module": "@jupyter-widgets/base",
            "_view_module_version": "1.2.0",
            "_view_name": "LayoutView",
            "align_content": null,
            "align_items": null,
            "align_self": null,
            "border": null,
            "bottom": null,
            "display": null,
            "flex": null,
            "flex_flow": null,
            "grid_area": null,
            "grid_auto_columns": null,
            "grid_auto_flow": null,
            "grid_auto_rows": null,
            "grid_column": null,
            "grid_gap": null,
            "grid_row": null,
            "grid_template_areas": null,
            "grid_template_columns": null,
            "grid_template_rows": null,
            "height": null,
            "justify_content": null,
            "justify_items": null,
            "left": null,
            "margin": null,
            "max_height": null,
            "max_width": null,
            "min_height": null,
            "min_width": null,
            "object_fit": null,
            "object_position": null,
            "order": null,
            "overflow": null,
            "overflow_x": null,
            "overflow_y": null,
            "padding": null,
            "right": null,
            "top": null,
            "visibility": null,
            "width": null
          }
        },
        "5fcf5ac8945d42abb6430a118df83a51": {
          "model_module": "@jupyter-widgets/controls",
          "model_name": "DescriptionStyleModel",
          "model_module_version": "1.5.0",
          "state": {
            "_model_module": "@jupyter-widgets/controls",
            "_model_module_version": "1.5.0",
            "_model_name": "DescriptionStyleModel",
            "_view_count": null,
            "_view_module": "@jupyter-widgets/base",
            "_view_module_version": "1.2.0",
            "_view_name": "StyleView",
            "description_width": ""
          }
        },
        "d821c4620579469bb24a3f340f5399a5": {
          "model_module": "@jupyter-widgets/controls",
          "model_name": "HBoxModel",
          "model_module_version": "1.5.0",
          "state": {
            "_dom_classes": [],
            "_model_module": "@jupyter-widgets/controls",
            "_model_module_version": "1.5.0",
            "_model_name": "HBoxModel",
            "_view_count": null,
            "_view_module": "@jupyter-widgets/controls",
            "_view_module_version": "1.5.0",
            "_view_name": "HBoxView",
            "box_style": "",
            "children": [
              "IPY_MODEL_994c18eb9f234a618edaeb1ff15e8272",
              "IPY_MODEL_f2d798c5d7734db1b5e0d04cf4ec5687",
              "IPY_MODEL_abea8febd89942b0828e0bd79a52a1b0"
            ],
            "layout": "IPY_MODEL_263cfc48147d435fbbbcaee98fc641ef"
          }
        },
        "994c18eb9f234a618edaeb1ff15e8272": {
          "model_module": "@jupyter-widgets/controls",
          "model_name": "HTMLModel",
          "model_module_version": "1.5.0",
          "state": {
            "_dom_classes": [],
            "_model_module": "@jupyter-widgets/controls",
            "_model_module_version": "1.5.0",
            "_model_name": "HTMLModel",
            "_view_count": null,
            "_view_module": "@jupyter-widgets/controls",
            "_view_module_version": "1.5.0",
            "_view_name": "HTMLView",
            "description": "",
            "description_tooltip": null,
            "layout": "IPY_MODEL_ee7a7afc7b834ff5a82d2cf21c0086be",
            "placeholder": "​",
            "style": "IPY_MODEL_a06b9276c7444a9fa9a3b804e5e060d3",
            "value": "Phi-3-mini-4k-instruct-fp16.gguf: 100%"
          }
        },
        "f2d798c5d7734db1b5e0d04cf4ec5687": {
          "model_module": "@jupyter-widgets/controls",
          "model_name": "FloatProgressModel",
          "model_module_version": "1.5.0",
          "state": {
            "_dom_classes": [],
            "_model_module": "@jupyter-widgets/controls",
            "_model_module_version": "1.5.0",
            "_model_name": "FloatProgressModel",
            "_view_count": null,
            "_view_module": "@jupyter-widgets/controls",
            "_view_module_version": "1.5.0",
            "_view_name": "ProgressView",
            "bar_style": "success",
            "description": "",
            "description_tooltip": null,
            "layout": "IPY_MODEL_252c79366d8648afb77cfd64777b3d83",
            "max": 7643295904,
            "min": 0,
            "orientation": "horizontal",
            "style": "IPY_MODEL_e0271d55a8f44482a2f92032b331aa34",
            "value": 7643295904
          }
        },
        "abea8febd89942b0828e0bd79a52a1b0": {
          "model_module": "@jupyter-widgets/controls",
          "model_name": "HTMLModel",
          "model_module_version": "1.5.0",
          "state": {
            "_dom_classes": [],
            "_model_module": "@jupyter-widgets/controls",
            "_model_module_version": "1.5.0",
            "_model_name": "HTMLModel",
            "_view_count": null,
            "_view_module": "@jupyter-widgets/controls",
            "_view_module_version": "1.5.0",
            "_view_name": "HTMLView",
            "description": "",
            "description_tooltip": null,
            "layout": "IPY_MODEL_4228531d09c9448980eb8f5f2d9397fe",
            "placeholder": "​",
            "style": "IPY_MODEL_648166b5f5fd47e194432691e87efd54",
            "value": " 7.64G/7.64G [03:01&lt;00:00, 42.2MB/s]"
          }
        },
        "263cfc48147d435fbbbcaee98fc641ef": {
          "model_module": "@jupyter-widgets/base",
          "model_name": "LayoutModel",
          "model_module_version": "1.2.0",
          "state": {
            "_model_module": "@jupyter-widgets/base",
            "_model_module_version": "1.2.0",
            "_model_name": "LayoutModel",
            "_view_count": null,
            "_view_module": "@jupyter-widgets/base",
            "_view_module_version": "1.2.0",
            "_view_name": "LayoutView",
            "align_content": null,
            "align_items": null,
            "align_self": null,
            "border": null,
            "bottom": null,
            "display": null,
            "flex": null,
            "flex_flow": null,
            "grid_area": null,
            "grid_auto_columns": null,
            "grid_auto_flow": null,
            "grid_auto_rows": null,
            "grid_column": null,
            "grid_gap": null,
            "grid_row": null,
            "grid_template_areas": null,
            "grid_template_columns": null,
            "grid_template_rows": null,
            "height": null,
            "justify_content": null,
            "justify_items": null,
            "left": null,
            "margin": null,
            "max_height": null,
            "max_width": null,
            "min_height": null,
            "min_width": null,
            "object_fit": null,
            "object_position": null,
            "order": null,
            "overflow": null,
            "overflow_x": null,
            "overflow_y": null,
            "padding": null,
            "right": null,
            "top": null,
            "visibility": null,
            "width": null
          }
        },
        "ee7a7afc7b834ff5a82d2cf21c0086be": {
          "model_module": "@jupyter-widgets/base",
          "model_name": "LayoutModel",
          "model_module_version": "1.2.0",
          "state": {
            "_model_module": "@jupyter-widgets/base",
            "_model_module_version": "1.2.0",
            "_model_name": "LayoutModel",
            "_view_count": null,
            "_view_module": "@jupyter-widgets/base",
            "_view_module_version": "1.2.0",
            "_view_name": "LayoutView",
            "align_content": null,
            "align_items": null,
            "align_self": null,
            "border": null,
            "bottom": null,
            "display": null,
            "flex": null,
            "flex_flow": null,
            "grid_area": null,
            "grid_auto_columns": null,
            "grid_auto_flow": null,
            "grid_auto_rows": null,
            "grid_column": null,
            "grid_gap": null,
            "grid_row": null,
            "grid_template_areas": null,
            "grid_template_columns": null,
            "grid_template_rows": null,
            "height": null,
            "justify_content": null,
            "justify_items": null,
            "left": null,
            "margin": null,
            "max_height": null,
            "max_width": null,
            "min_height": null,
            "min_width": null,
            "object_fit": null,
            "object_position": null,
            "order": null,
            "overflow": null,
            "overflow_x": null,
            "overflow_y": null,
            "padding": null,
            "right": null,
            "top": null,
            "visibility": null,
            "width": null
          }
        },
        "a06b9276c7444a9fa9a3b804e5e060d3": {
          "model_module": "@jupyter-widgets/controls",
          "model_name": "DescriptionStyleModel",
          "model_module_version": "1.5.0",
          "state": {
            "_model_module": "@jupyter-widgets/controls",
            "_model_module_version": "1.5.0",
            "_model_name": "DescriptionStyleModel",
            "_view_count": null,
            "_view_module": "@jupyter-widgets/base",
            "_view_module_version": "1.2.0",
            "_view_name": "StyleView",
            "description_width": ""
          }
        },
        "252c79366d8648afb77cfd64777b3d83": {
          "model_module": "@jupyter-widgets/base",
          "model_name": "LayoutModel",
          "model_module_version": "1.2.0",
          "state": {
            "_model_module": "@jupyter-widgets/base",
            "_model_module_version": "1.2.0",
            "_model_name": "LayoutModel",
            "_view_count": null,
            "_view_module": "@jupyter-widgets/base",
            "_view_module_version": "1.2.0",
            "_view_name": "LayoutView",
            "align_content": null,
            "align_items": null,
            "align_self": null,
            "border": null,
            "bottom": null,
            "display": null,
            "flex": null,
            "flex_flow": null,
            "grid_area": null,
            "grid_auto_columns": null,
            "grid_auto_flow": null,
            "grid_auto_rows": null,
            "grid_column": null,
            "grid_gap": null,
            "grid_row": null,
            "grid_template_areas": null,
            "grid_template_columns": null,
            "grid_template_rows": null,
            "height": null,
            "justify_content": null,
            "justify_items": null,
            "left": null,
            "margin": null,
            "max_height": null,
            "max_width": null,
            "min_height": null,
            "min_width": null,
            "object_fit": null,
            "object_position": null,
            "order": null,
            "overflow": null,
            "overflow_x": null,
            "overflow_y": null,
            "padding": null,
            "right": null,
            "top": null,
            "visibility": null,
            "width": null
          }
        },
        "e0271d55a8f44482a2f92032b331aa34": {
          "model_module": "@jupyter-widgets/controls",
          "model_name": "ProgressStyleModel",
          "model_module_version": "1.5.0",
          "state": {
            "_model_module": "@jupyter-widgets/controls",
            "_model_module_version": "1.5.0",
            "_model_name": "ProgressStyleModel",
            "_view_count": null,
            "_view_module": "@jupyter-widgets/base",
            "_view_module_version": "1.2.0",
            "_view_name": "StyleView",
            "bar_color": null,
            "description_width": ""
          }
        },
        "4228531d09c9448980eb8f5f2d9397fe": {
          "model_module": "@jupyter-widgets/base",
          "model_name": "LayoutModel",
          "model_module_version": "1.2.0",
          "state": {
            "_model_module": "@jupyter-widgets/base",
            "_model_module_version": "1.2.0",
            "_model_name": "LayoutModel",
            "_view_count": null,
            "_view_module": "@jupyter-widgets/base",
            "_view_module_version": "1.2.0",
            "_view_name": "LayoutView",
            "align_content": null,
            "align_items": null,
            "align_self": null,
            "border": null,
            "bottom": null,
            "display": null,
            "flex": null,
            "flex_flow": null,
            "grid_area": null,
            "grid_auto_columns": null,
            "grid_auto_flow": null,
            "grid_auto_rows": null,
            "grid_column": null,
            "grid_gap": null,
            "grid_row": null,
            "grid_template_areas": null,
            "grid_template_columns": null,
            "grid_template_rows": null,
            "height": null,
            "justify_content": null,
            "justify_items": null,
            "left": null,
            "margin": null,
            "max_height": null,
            "max_width": null,
            "min_height": null,
            "min_width": null,
            "object_fit": null,
            "object_position": null,
            "order": null,
            "overflow": null,
            "overflow_x": null,
            "overflow_y": null,
            "padding": null,
            "right": null,
            "top": null,
            "visibility": null,
            "width": null
          }
        },
        "648166b5f5fd47e194432691e87efd54": {
          "model_module": "@jupyter-widgets/controls",
          "model_name": "DescriptionStyleModel",
          "model_module_version": "1.5.0",
          "state": {
            "_model_module": "@jupyter-widgets/controls",
            "_model_module_version": "1.5.0",
            "_model_name": "DescriptionStyleModel",
            "_view_count": null,
            "_view_module": "@jupyter-widgets/base",
            "_view_module_version": "1.2.0",
            "_view_name": "StyleView",
            "description_width": ""
          }
        }
      }
    }
  },
  "cells": [
    {
      "cell_type": "markdown",
      "metadata": {
        "id": "view-in-github",
        "colab_type": "text"
      },
      "source": [
        "<a href=\"https://colab.research.google.com/github/Zohreh6384NKH/LLM_Project/blob/main/Chapter6_Prompt_Engineering.ipynb\" target=\"_parent\"><img src=\"https://colab.research.google.com/assets/colab-badge.svg\" alt=\"Open In Colab\"/></a>"
      ]
    },
    {
      "cell_type": "markdown",
      "source": [
        "##**Prompt Engineering**"
      ],
      "metadata": {
        "id": "DK3Pm4NgLAal"
      }
    },
    {
      "cell_type": "code",
      "source": [
        "!pip install --upgrade pip setuptools wheel\n"
      ],
      "metadata": {
        "colab": {
          "base_uri": "https://localhost:8080/"
        },
        "id": "2dFj0Os9WjMl",
        "outputId": "6bc8c4e1-0739-4423-d323-14da569f3fe1"
      },
      "execution_count": 1,
      "outputs": [
        {
          "output_type": "stream",
          "name": "stdout",
          "text": [
            "Requirement already satisfied: pip in /usr/local/lib/python3.10/dist-packages (24.3.1)\n",
            "Requirement already satisfied: setuptools in /usr/local/lib/python3.10/dist-packages (75.5.0)\n",
            "Requirement already satisfied: wheel in /usr/local/lib/python3.10/dist-packages (0.45.0)\n"
          ]
        }
      ]
    },
    {
      "cell_type": "code",
      "source": [
        "!pip install llama-cpp-python --prefer-binary\n"
      ],
      "metadata": {
        "colab": {
          "base_uri": "https://localhost:8080/"
        },
        "id": "keFzHki8ZfHj",
        "outputId": "91e7615f-3154-4cca-9463-e88217281b0f"
      },
      "execution_count": 3,
      "outputs": [
        {
          "output_type": "stream",
          "name": "stdout",
          "text": [
            "Collecting llama-cpp-python\n",
            "  Using cached llama_cpp_python-0.3.2.tar.gz (65.0 MB)\n",
            "  Installing build dependencies ... \u001b[?25l\u001b[?25hdone\n",
            "  Getting requirements to build wheel ... \u001b[?25l\u001b[?25hdone\n",
            "  Installing backend dependencies ... \u001b[?25l\u001b[?25hdone\n",
            "  Preparing metadata (pyproject.toml) ... \u001b[?25l\u001b[?25hdone\n",
            "Requirement already satisfied: typing-extensions>=4.5.0 in /usr/local/lib/python3.10/dist-packages (from llama-cpp-python) (4.12.2)\n",
            "Requirement already satisfied: numpy>=1.20.0 in /usr/local/lib/python3.10/dist-packages (from llama-cpp-python) (1.26.4)\n",
            "Collecting diskcache>=5.6.1 (from llama-cpp-python)\n",
            "  Using cached diskcache-5.6.3-py3-none-any.whl.metadata (20 kB)\n",
            "Requirement already satisfied: jinja2>=2.11.3 in /usr/local/lib/python3.10/dist-packages (from llama-cpp-python) (3.1.4)\n",
            "Requirement already satisfied: MarkupSafe>=2.0 in /usr/local/lib/python3.10/dist-packages (from jinja2>=2.11.3->llama-cpp-python) (3.0.2)\n",
            "Using cached diskcache-5.6.3-py3-none-any.whl (45 kB)\n",
            "Building wheels for collected packages: llama-cpp-python\n",
            "  Building wheel for llama-cpp-python (pyproject.toml) ... \u001b[?25l\u001b[?25hdone\n",
            "  Created wheel for llama-cpp-python: filename=llama_cpp_python-0.3.2-cp310-cp310-linux_x86_64.whl size=3410007 sha256=238d712e08f9e2122e10fb30b96a882e420199ea0e15f6f6739c91fe2b4d4e13\n",
            "  Stored in directory: /root/.cache/pip/wheels/49/1c/f0/6c1ed6032d5827dea28df8a8df860d90ca1bcd7b3fa455f5e1\n",
            "Successfully built llama-cpp-python\n",
            "Installing collected packages: diskcache, llama-cpp-python\n",
            "Successfully installed diskcache-5.6.3 llama-cpp-python-0.3.2\n"
          ]
        }
      ]
    },
    {
      "cell_type": "code",
      "source": [
        "# %%capture\n",
        "!pip install langchain>=0.1.17 openai>=1.13.3 langchain_openai>=0.1.6 transformers>=4.40.1 datasets>=2.18.0 accelerate>=0.27.2 sentence-transformers>=2.5.1 duckduckgo-search>=5.2.2\n",
        "!CMAKE_ARGS=\"-DLLAMA_CUBLAS=on\" pip install llama-cpp-python"
      ],
      "metadata": {
        "colab": {
          "base_uri": "https://localhost:8080/"
        },
        "id": "maFLmvOKYvUu",
        "outputId": "a1880355-bf01-44da-9ff7-8c85f551e4e3"
      },
      "execution_count": 4,
      "outputs": [
        {
          "output_type": "stream",
          "name": "stdout",
          "text": [
            "Requirement already satisfied: llama-cpp-python in /usr/local/lib/python3.10/dist-packages (0.3.2)\n",
            "Requirement already satisfied: typing-extensions>=4.5.0 in /usr/local/lib/python3.10/dist-packages (from llama-cpp-python) (4.12.2)\n",
            "Requirement already satisfied: numpy>=1.20.0 in /usr/local/lib/python3.10/dist-packages (from llama-cpp-python) (1.26.4)\n",
            "Requirement already satisfied: diskcache>=5.6.1 in /usr/local/lib/python3.10/dist-packages (from llama-cpp-python) (5.6.3)\n",
            "Requirement already satisfied: jinja2>=2.11.3 in /usr/local/lib/python3.10/dist-packages (from llama-cpp-python) (3.1.4)\n",
            "Requirement already satisfied: MarkupSafe>=2.0 in /usr/local/lib/python3.10/dist-packages (from jinja2>=2.11.3->llama-cpp-python) (3.0.2)\n"
          ]
        }
      ]
    },
    {
      "cell_type": "code",
      "source": [
        "import torch\n",
        "from transformers import AutoModelForCausalLM, AutoTokenizer, pipeline\n",
        "\n",
        "#load the model and tokenizer\n",
        "model = AutoModelForCausalLM.from_pretrained(\n",
        "    \"microsoft/Phi-3-mini-4k-instruct\",\n",
        "    device_map= \"cuda\",\n",
        "    torch_dtype = \"auto\",\n",
        "    trust_remote_code= \"True\"\n",
        "\n",
        "\n",
        ")\n",
        "tokenizer = AutoTokenizer.from_pretrained(\"microsoft/Phi-3-mini-4k-instruct\")\n",
        "#create a pipeline\n",
        "pipe = pipeline(\n",
        "    \"text-generation\",\n",
        "    model = model,\n",
        "    tokenizer = tokenizer,\n",
        "    max_new_tokens = 500,\n",
        "    do_sample = False,   #consistent and predictable output without randomness(deterministic output)\n",
        "    return_full_text = False    # we care about generated content rather than input text or prompt\n",
        "\n",
        ")"
      ],
      "metadata": {
        "colab": {
          "base_uri": "https://localhost:8080/",
          "height": 49,
          "referenced_widgets": [
            "d1212ef350b44afc9789f560112f4c15",
            "04f1642890344c4c8ed4d840a314a61e",
            "5357b248d18b4bbd916b91c86a3d20de",
            "a0c10ebf4f7743ef934457788e0a426e",
            "358b9ae128184e80a0aff0494700dba6",
            "0c861b4b74a84d4188ca47314a3d8c24",
            "e043f7df245d45348f2213ecc4b99950",
            "f1f6a597e76a42d49b9046bd5478f445",
            "bfeae28b5c5049b0abe5bedc01026e5e",
            "150380942fe54b2ea99f669b0a157bdd",
            "5fcf5ac8945d42abb6430a118df83a51"
          ]
        },
        "id": "K3bay6bPWjR7",
        "outputId": "ef4066f2-b205-433d-bc83-041f0c69a14b"
      },
      "execution_count": 7,
      "outputs": [
        {
          "output_type": "display_data",
          "data": {
            "text/plain": [
              "Loading checkpoint shards:   0%|          | 0/2 [00:00<?, ?it/s]"
            ],
            "application/vnd.jupyter.widget-view+json": {
              "version_major": 2,
              "version_minor": 0,
              "model_id": "d1212ef350b44afc9789f560112f4c15"
            }
          },
          "metadata": {}
        }
      ]
    },
    {
      "cell_type": "code",
      "source": [
        "# Prompt\n",
        "messages = [\n",
        "    {\"role\": \"user\", \"content\": \"Create a funny joke about chickens.\"}\n",
        "]\n",
        "\n",
        "# Generate the output\n",
        "output = pipe(messages)\n",
        "print(output)\n",
        "print(output[0])\n",
        "print(output[0][\"generated_text\"])"
      ],
      "metadata": {
        "colab": {
          "base_uri": "https://localhost:8080/"
        },
        "id": "2LD2AYXZiU9l",
        "outputId": "9b3a4c77-b9ca-4df6-dbe0-1a3d2941c657"
      },
      "execution_count": 14,
      "outputs": [
        {
          "output_type": "stream",
          "name": "stdout",
          "text": [
            "[{'generated_text': ' Why did the chicken join the band? Because it had the drumsticks!'}]\n",
            "{'generated_text': ' Why did the chicken join the band? Because it had the drumsticks!'}\n",
            " Why did the chicken join the band? Because it had the drumsticks!\n"
          ]
        }
      ]
    },
    {
      "cell_type": "code",
      "source": [
        "#apply remote template\n",
        "# Apply prompt template\n",
        "prompt = pipe.tokenizer.apply_chat_template(messages, tokenize=False)\n",
        "print(prompt)"
      ],
      "metadata": {
        "colab": {
          "base_uri": "https://localhost:8080/"
        },
        "id": "VWWxwNaEmjEl",
        "outputId": "89c7d626-06f1-43e7-ec97-2a7bba7e7d9c"
      },
      "execution_count": 26,
      "outputs": [
        {
          "output_type": "stream",
          "name": "stdout",
          "text": [
            "<|user|>\n",
            "Create a funny joke about chickens.<|end|>\n",
            "<|endoftext|>\n"
          ]
        }
      ]
    },
    {
      "cell_type": "code",
      "source": [
        "output = pipe(messages, do_sample=True, temperature=0.9)  #set temperature to higher value gives more diversity to output.\n",
        "print(output[0]['generated_text'])"
      ],
      "metadata": {
        "colab": {
          "base_uri": "https://localhost:8080/"
        },
        "id": "4rxxEdyvkO1d",
        "outputId": "8e5218d6-ad4d-47ff-a95e-3f8d6423df35"
      },
      "execution_count": 25,
      "outputs": [
        {
          "output_type": "stream",
          "name": "stdout",
          "text": [
            " Why did the chicken join a band? Because it had the drumsticks!\n"
          ]
        }
      ]
    },
    {
      "cell_type": "code",
      "source": [
        "# using a high top p\n",
        "output = pipe(messages, do_sample = True, top_p = 0.9)   #cut off unlikely tokens\n",
        "print(output)"
      ],
      "metadata": {
        "colab": {
          "base_uri": "https://localhost:8080/"
        },
        "id": "0ZGnDK7DWjVN",
        "outputId": "5726be58-ad4a-468d-b869-03dbf2a3a7ef"
      },
      "execution_count": 27,
      "outputs": [
        {
          "output_type": "stream",
          "name": "stdout",
          "text": [
            "[{'generated_text': ' Why did the chicken join the police force? She wanted to follow the \"clucking\" detective routine!'}]\n"
          ]
        }
      ]
    },
    {
      "cell_type": "markdown",
      "source": [
        "##**Intro to Prompt Engineering**"
      ],
      "metadata": {
        "id": "qN82YaE7ol2e"
      }
    },
    {
      "cell_type": "code",
      "source": [
        "# Text to summarize which we stole from https://jalammar.github.io/illustrated-transformer/ ;)\n",
        "text = \"\"\"In the previous post, we looked at Attention – a ubiquitous method in modern deep learning models. Attention is a concept that helped improve the performance of neural machine translation applications. In this post, we will look at The Transformer – a model that uses attention to boost the speed with which these models can be trained. The Transformer outperforms the Google Neural Machine Translation model in specific tasks. The biggest benefit, however, comes from how The Transformer lends itself to parallelization. It is in fact Google Cloud’s recommendation to use The Transformer as a reference model to use their Cloud TPU offering. So let’s try to break the model apart and look at how it functions.\n",
        "The Transformer was proposed in the paper Attention is All You Need. A TensorFlow implementation of it is available as a part of the Tensor2Tensor package. Harvard’s NLP group created a guide annotating the paper with PyTorch implementation. In this post, we will attempt to oversimplify things a bit and introduce the concepts one by one to hopefully make it easier to understand to people without in-depth knowledge of the subject matter.\n",
        "Let’s begin by looking at the model as a single black box. In a machine translation application, it would take a sentence in one language, and output its translation in another.\n",
        "Popping open that Optimus Prime goodness, we see an encoding component, a decoding component, and connections between them.\n",
        "The encoding component is a stack of encoders (the paper stacks six of them on top of each other – there’s nothing magical about the number six, one can definitely experiment with other arrangements). The decoding component is a stack of decoders of the same number.\n",
        "The encoders are all identical in structure (yet they do not share weights). Each one is broken down into two sub-layers:\n",
        "The encoder’s inputs first flow through a self-attention layer – a layer that helps the encoder look at other words in the input sentence as it encodes a specific word. We’ll look closer at self-attention later in the post.\n",
        "The outputs of the self-attention layer are fed to a feed-forward neural network. The exact same feed-forward network is independently applied to each position.\n",
        "The decoder has both those layers, but between them is an attention layer that helps the decoder focus on relevant parts of the input sentence (similar what attention does in seq2seq models).\n",
        "Now that we’ve seen the major components of the model, let’s start to look at the various vectors/tensors and how they flow between these components to turn the input of a trained model into an output.\n",
        "As is the case in NLP applications in general, we begin by turning each input word into a vector using an embedding algorithm.\n",
        "Each word is embedded into a vector of size 512. We'll represent those vectors with these simple boxes.\n",
        "The embedding only happens in the bottom-most encoder. The abstraction that is common to all the encoders is that they receive a list of vectors each of the size 512 – In the bottom encoder that would be the word embeddings, but in other encoders, it would be the output of the encoder that’s directly below. The size of this list is hyperparameter we can set – basically it would be the length of the longest sentence in our training dataset.\n",
        "After embedding the words in our input sequence, each of them flows through each of the two layers of the encoder.\n",
        "Here we begin to see one key property of the Transformer, which is that the word in each position flows through its own path in the encoder. There are dependencies between these paths in the self-attention layer. The feed-forward layer does not have those dependencies, however, and thus the various paths can be executed in parallel while flowing through the feed-forward layer.\n",
        "Next, we’ll switch up the example to a shorter sentence and we’ll look at what happens in each sub-layer of the encoder.\n",
        "Now We’re Encoding!\n",
        "As we’ve mentioned already, an encoder receives a list of vectors as input. It processes this list by passing these vectors into a ‘self-attention’ layer, then into a feed-forward neural network, then sends out the output upwards to the next encoder.\n",
        "\"\"\"\n",
        "\n",
        "# Prompt components\n",
        "persona = \"You are an expert in Large Language models. You excel at breaking down complex papers into digestible summaries.\\n\"\n",
        "instruction = \"Summarize the key findings of the paper provided.\\n\"\n",
        "context = \"Your summary should extract the most crucial points that can help researchers quickly understand the most vital information of the paper.\\n\"\n",
        "data_format = \"Create a bullet-point summary that outlines the method. Follow this up with a concise paragraph that encapsulates the main results.\\n\"\n",
        "audience = \"The summary is designed for busy researchers that quickly need to grasp the newest trends in Large Language Models.\\n\"\n",
        "tone = \"The tone should be professional and clear.\\n\"\n",
        "text = \"MY TEXT TO SUMMARIZE\"  # Replace with your own text to summarize\n",
        "data = f\"Text to summarize: {text}\"\n",
        "\n",
        "# The full prompt - remove and add pieces to view its impact on the generated output\n",
        "query = persona + instruction + context + data_format + audience + tone + data"
      ],
      "metadata": {
        "id": "IXmKmTrlWjZD"
      },
      "execution_count": 28,
      "outputs": []
    },
    {
      "cell_type": "code",
      "source": [
        "messages = [{\n",
        "    \"role\":\"user\",\n",
        "    \"content\":\"query\"\n",
        "}]\n",
        "print(tokenizer.apply_chat_template(messages, tokenizer = False))"
      ],
      "metadata": {
        "colab": {
          "base_uri": "https://localhost:8080/"
        },
        "id": "Siw6JcigtlE7",
        "outputId": "12fa4609-a404-4300-f68d-0acd0e8aac36"
      },
      "execution_count": 33,
      "outputs": [
        {
          "output_type": "stream",
          "name": "stdout",
          "text": [
            "[32010, 2346, 32007, 32000]\n"
          ]
        }
      ]
    },
    {
      "cell_type": "code",
      "source": [
        "messages = [{\"role\":\"user\", \"content\":query}]\n",
        "output = pipe(messages)\n",
        "print(output[0]['generated_text'])"
      ],
      "metadata": {
        "colab": {
          "base_uri": "https://localhost:8080/"
        },
        "id": "ZcHyCG0gsIvh",
        "outputId": "1b1d7f49-e9ff-4a82-dd98-d5c84056c810"
      },
      "execution_count": 31,
      "outputs": [
        {
          "output_type": "stream",
          "name": "stdout",
          "text": [
            " - The paper investigates the impact of pre-training data size on the performance of Large Language Models (LLMs).\n",
            "\n",
            "- It compares models trained on different volumes of data, ranging from a few billion to over a trillion tokens.\n",
            "\n",
            "- The study finds that models trained on larger datasets generally perform better on a variety of tasks, including language understanding and generation.\n",
            "\n",
            "- However, the performance gains diminish after a certain point, indicating a potential plateau in the benefits of increasing data size.\n",
            "\n",
            "- The paper also discusses the diminishing returns in terms of computational resources and environmental impact.\n",
            "\n",
            "- It suggests that future research should focus on optimizing model architecture and training procedures to achieve better performance with less data.\n",
            "\n",
            "\n",
            "The paper presents a comprehensive analysis of how the size of pre-training data affects the capabilities of Large Language Models. It reveals that while larger datasets lead to improved performance across multiple tasks, there is a threshold beyond which additional data does not significantly enhance model effectiveness. This finding is crucial for the research community as it highlights the importance of optimizing model design and training strategies to balance performance gains with resource efficiency and environmental considerations.\n"
          ]
        }
      ]
    },
    {
      "cell_type": "markdown",
      "source": [
        "##**In Context Learning:Providing Examples**\n"
      ],
      "metadata": {
        "id": "2EewYE8vuRwL"
      }
    },
    {
      "cell_type": "code",
      "source": [
        "# Use a single example of using the made-up word in a sentence\n",
        "one_shot_prompt = [\n",
        "    {\n",
        "        \"role\": \"user\",\n",
        "        \"content\": \"A 'Gigamuru' is a type of Japanese musical instrument. An example of a sentence that uses the word Gigamuru is:\"\n",
        "    },\n",
        "    {\n",
        "        \"role\": \"assistant\",\n",
        "        \"content\": \"I have a Gigamuru that my uncle gave me as a gift. I love to play it at home.\"\n",
        "    },\n",
        "    {\n",
        "        \"role\": \"user\",\n",
        "        \"content\": \"To 'screeg' something is to swing a sword at it. An example of a sentence that uses the word screeg is:\"\n",
        "    }\n",
        "]\n",
        "\n",
        "print(tokenizer.apply_chat_template(one_shot_prompt, tokenize=False))\n",
        "\n"
      ],
      "metadata": {
        "colab": {
          "base_uri": "https://localhost:8080/"
        },
        "id": "n0qisPJaLAi-",
        "outputId": "9f9ce99e-cb79-4c22-fbef-c7cabfe9ac1b"
      },
      "execution_count": 42,
      "outputs": [
        {
          "output_type": "stream",
          "name": "stdout",
          "text": [
            "<|user|>\n",
            "A 'Gigamuru' is a type of Japanese musical instrument. An example of a sentence that uses the word Gigamuru is:<|end|>\n",
            "<|assistant|>\n",
            "I have a Gigamuru that my uncle gave me as a gift. I love to play it at home.<|end|>\n",
            "<|user|>\n",
            "To 'screeg' something is to swing a sword at it. An example of a sentence that uses the word screeg is:<|end|>\n",
            "<|endoftext|>\n"
          ]
        }
      ]
    },
    {
      "cell_type": "code",
      "source": [
        "# generate the output\n",
        "output = pipe(one_shot_prompt)\n",
        "print(output[0][\"generated_text\"])"
      ],
      "metadata": {
        "colab": {
          "base_uri": "https://localhost:8080/"
        },
        "id": "Tdo_hJWs1GMc",
        "outputId": "a4756571-dba6-4d5a-ab82-aa6579470df4"
      },
      "execution_count": 43,
      "outputs": [
        {
          "output_type": "stream",
          "name": "stdout",
          "text": [
            " During the medieval reenactment, the knight skillfully screeged the wooden target, impressing the onlookers with his prowess.\n"
          ]
        }
      ]
    },
    {
      "cell_type": "markdown",
      "source": [
        "##**Chaining the prompting:Breaking up the Problem**"
      ],
      "metadata": {
        "id": "8VLSKRj-1XLL"
      }
    },
    {
      "cell_type": "code",
      "source": [
        "#create name and slogan for a product\n",
        "product_prompt = [{\n",
        "    \"role\": \"user\",\n",
        "    \"content\": \"create a slogan for gpt4\"\n",
        "}]\n",
        "product_description = pipe(product_prompt)\n",
        "print(product_description[0]['generated_text'])"
      ],
      "metadata": {
        "colab": {
          "base_uri": "https://localhost:8080/"
        },
        "id": "Nb_xLtim1dDc",
        "outputId": "91aa8695-6356-496a-a8f9-29d13ea4abaa"
      },
      "execution_count": 45,
      "outputs": [
        {
          "output_type": "stream",
          "name": "stdout",
          "text": [
            " \"Unleash the Power of AI with GPT-4: Where Creativity Meets Intelligence.\"\n"
          ]
        }
      ]
    },
    {
      "cell_type": "code",
      "source": [
        "# # Based on a name and slogan for a product, generate a sales pitch\n",
        "sales_prompt = [{\n",
        "    \"role\":\"user\", \"content\": \"generate a short pitch on using gpt4 to have very smart assistant\"\n",
        "}]\n",
        "output = pipe(sales_prompt)\n",
        "print(output[0]['generated_text'])"
      ],
      "metadata": {
        "colab": {
          "base_uri": "https://localhost:8080/"
        },
        "id": "lq601Wnd3Ojw",
        "outputId": "e3b6aba5-d494-46db-fa67-d01acd55b274"
      },
      "execution_count": 46,
      "outputs": [
        {
          "output_type": "stream",
          "name": "stdout",
          "text": [
            " Introducing GPT4, the ultimate AI-powered assistant that will revolutionize the way you work and live. With its advanced natural language processing capabilities, GPT4 can understand and respond to your queries with unparalleled accuracy and intelligence.\n",
            "\n",
            "Imagine having a personal assistant that can help you with everything from scheduling appointments and managing your to-do list, to providing expert advice on a wide range of topics. GPT4 is designed to be your go-to resource for all your needs, whether you're looking for information, guidance, or just someone to talk to.\n",
            "\n",
            "With GPT4, you'll never have to worry about missing an important deadline or forgetting a crucial detail. Our AI-powered assistant will keep you organized, on top of your game, and always one step ahead.\n",
            "\n",
            "So why wait? Upgrade your life with GPT4, the smartest assistant you'll ever have.\n"
          ]
        }
      ]
    },
    {
      "cell_type": "markdown",
      "source": [
        "##**Reasoning with Generative Models**"
      ],
      "metadata": {
        "id": "kmOXPG1D4Af1"
      }
    },
    {
      "cell_type": "markdown",
      "source": [
        "###**chain of thought:thinking before answering**"
      ],
      "metadata": {
        "id": "O585Oo0q4P5y"
      }
    },
    {
      "cell_type": "code",
      "source": [
        "# # Answering without explicit reasoning\n",
        "standard_prompt = [\n",
        "     {\"role\": \"user\", \"content\": \"Roger has 5 tennis balls. He buys 2 more cans of tennis balls. Each can has 3 tennis balls. How many tennis balls does he have now?\"},\n",
        "    {\"role\": \"assistant\", \"content\": \"11\"},\n",
        "     {\"role\": \"user\", \"content\": \"The cafeteria had 25 apples. If they used 20 to make lunch and bought 6 more, how many apples do they have?\"}\n",
        " ]\n",
        "\n",
        "# # Run generative model\n",
        "outputs = pipe(standard_prompt)\n",
        "print(outputs[0][\"generated_text\"])"
      ],
      "metadata": {
        "colab": {
          "base_uri": "https://localhost:8080/"
        },
        "id": "8erusSJU4A0T",
        "outputId": "4c1b2b76-86f9-480d-9095-49035fe55e33"
      },
      "execution_count": 47,
      "outputs": [
        {
          "output_type": "stream",
          "name": "stdout",
          "text": [
            " The cafeteria started with 25 apples. They used 20 apples to make lunch, so they had 25 - 20 = 5 apples left. After buying 6 more apples, they now have 5 + 6 = 11 apples.\n"
          ]
        }
      ]
    },
    {
      "cell_type": "code",
      "source": [
        "# Answering with chain-of-thought\n",
        "cot_prompt = [\n",
        "    {\"role\": \"user\", \"content\": \"Roger has 5 tennis balls. He buys 2 more cans of tennis balls. Each can has 3 tennis balls. How many tennis balls does he have now?\"},\n",
        "    {\"role\": \"assistant\", \"content\": \"Roger started with 5 balls. 2 cans of 3 tennis balls each is 6 tennis balls. 5 + 6 = 11. The answer is 11.\"},\n",
        "    {\"role\": \"user\", \"content\": \"The cafeteria had 23 apples. If they used 20 to make lunch and bought 6 more, how many apples do they have?\"}\n",
        "]\n",
        "\n",
        "# Generate the output\n",
        "outputs = pipe(cot_prompt)\n",
        "print(outputs[0][\"generated_text\"])"
      ],
      "metadata": {
        "colab": {
          "base_uri": "https://localhost:8080/"
        },
        "id": "4DAdLk-N4_zZ",
        "outputId": "6ef84a2f-038f-4b9b-ff3f-ca78d1fe4b69"
      },
      "execution_count": 48,
      "outputs": [
        {
          "output_type": "stream",
          "name": "stdout",
          "text": [
            " The cafeteria started with 23 apples. They used 20 apples for lunch, so they had 23 - 20 = 3 apples left. After buying 6 more apples, they now have 3 + 6 = 9 apples. The answer is 9.\n"
          ]
        }
      ]
    },
    {
      "cell_type": "markdown",
      "source": [
        "##**Zero-shot Chain-of-Thought**\n"
      ],
      "metadata": {
        "id": "tWFfvBr_5LoX"
      }
    },
    {
      "cell_type": "code",
      "source": [
        "# Zero-shot Chain-of-Thought\n",
        "zeroshot_cot_prompt = [\n",
        "    {\"role\": \"user\", \"content\": \"The cafeteria had 23 apples. If they used 20 to make lunch and bought 6 more, how many apples do they have? Let's think step-by-step.\"}\n",
        "]\n",
        "\n",
        "# Generate the output\n",
        "outputs = pipe(zeroshot_cot_prompt)\n",
        "print(outputs[0][\"generated_text\"])"
      ],
      "metadata": {
        "colab": {
          "base_uri": "https://localhost:8080/"
        },
        "id": "YVl8msUu5OGY",
        "outputId": "d318d44c-0772-4e13-aaf6-66706f458a37"
      },
      "execution_count": 49,
      "outputs": [
        {
          "output_type": "stream",
          "name": "stdout",
          "text": [
            " Step 1: Start with the initial number of apples in the cafeteria, which is 23.\n",
            "\n",
            "Step 2: Subtract the number of apples used to make lunch, which is 20.\n",
            "23 - 20 = 3 apples remaining.\n",
            "\n",
            "Step 3: Add the number of apples bought, which is 6.\n",
            "3 + 6 = 9 apples.\n",
            "\n",
            "So, the cafeteria now has 9 apples.\n"
          ]
        }
      ]
    },
    {
      "cell_type": "markdown",
      "source": [
        "##**Tree-of-Thought: Exploring Intermediate Steps**\n"
      ],
      "metadata": {
        "id": "Wae4sfU45eRG"
      }
    },
    {
      "cell_type": "code",
      "source": [
        "# Zero-shot Chain-of-Thought\n",
        "zeroshot_tot_prompt = [\n",
        "    {\"role\": \"user\", \"content\": \"Imagine three different experts are answering this question. All experts will write down 1 step of their thinking, then share it with the group. Then all experts will go on to the next step, etc. If any expert realises they're wrong at any point then they leave. The question is 'The cafeteria had 23 apples. If they used 20 to make lunch and bought 6 more, how many apples do they have?' Make sure to discuss the results.\"}\n",
        "]"
      ],
      "metadata": {
        "id": "kz5kqnQC5ebt"
      },
      "execution_count": 50,
      "outputs": []
    },
    {
      "cell_type": "markdown",
      "source": [],
      "metadata": {
        "id": "THz2oOBk5oKk"
      }
    },
    {
      "cell_type": "code",
      "source": [
        "# Generate the output\n",
        "outputs = pipe(zeroshot_tot_prompt)\n",
        "print(outputs[0][\"generated_text\"])"
      ],
      "metadata": {
        "colab": {
          "base_uri": "https://localhost:8080/"
        },
        "id": "3Ju8UNIg5oY1",
        "outputId": "e5225f6b-e7ba-4cae-d093-6b53f9d4bf62"
      },
      "execution_count": 51,
      "outputs": [
        {
          "output_type": "stream",
          "name": "stdout",
          "text": [
            " Expert 1:\n",
            "Step 1: Start with the initial number of apples, which is 23.\n",
            "\n",
            "Expert 2:\n",
            "Step 1: Subtract the number of apples used for lunch, which is 20.\n",
            "Step 2: Add the number of apples bought, which is 6.\n",
            "\n",
            "Expert 3:\n",
            "Step 1: Start with the initial number of apples, which is 23.\n",
            "Step 2: Subtract the number of apples used for lunch, which is 20.\n",
            "Step 3: Add the number of apples bought, which is 6.\n",
            "\n",
            "Results:\n",
            "All three experts arrived at the same answer:\n",
            "\n",
            "Expert 1: 23 - 20 + 6 = 9 apples\n",
            "Expert 2: (23 - 20) + 6 = 9 apples\n",
            "Expert 3: (23 - 20) + 6 = 9 apples\n",
            "\n",
            "All three experts agree that the cafeteria has 9 apples left.\n"
          ]
        }
      ]
    },
    {
      "cell_type": "markdown",
      "source": [
        "#**Output Verification**\n"
      ],
      "metadata": {
        "id": "xERCM9Sa5wI1"
      }
    },
    {
      "cell_type": "markdown",
      "source": [
        "##**Providing Examples**\n"
      ],
      "metadata": {
        "id": "v-clvVVu5158"
      }
    },
    {
      "cell_type": "code",
      "source": [
        "# Zero-shot learning: Providing no examples\n",
        "zeroshot_prompt = [\n",
        "    {\"role\": \"user\", \"content\": \"Create a character profile for an RPG game in JSON format.\"}\n",
        "]\n",
        "\n",
        "# Generate the output\n",
        "outputs = pipe(zeroshot_prompt)\n",
        "print(outputs[0][\"generated_text\"])"
      ],
      "metadata": {
        "colab": {
          "base_uri": "https://localhost:8080/"
        },
        "id": "AMwXRFmD5yW-",
        "outputId": "40869659-3953-41f9-d8ff-3d22a1d9c6d6"
      },
      "execution_count": 52,
      "outputs": [
        {
          "output_type": "stream",
          "name": "stdout",
          "text": [
            " ```json\n",
            "{\n",
            "  \"name\": \"Eldrin the Wise\",\n",
            "  \"race\": \"Elf\",\n",
            "  \"class\": \"Wizard\",\n",
            "  \"level\": 10,\n",
            "  \"alignment\": \"Chaotic Good\",\n",
            "  \"strength\": 8,\n",
            "  \"dexterity\": 14,\n",
            "  \"constitution\": 12,\n",
            "  \"intelligence\": 18,\n",
            "  \"wisdom\": 16,\n",
            "  \"charisma\": 10,\n",
            "  \"weapon_skill\": \"Magic\",\n",
            "  \"armor_skill\": \"Light\",\n",
            "  \"spell_slots\": {\n",
            "    \"cantrips\": [\"Mage Hand\", \"Detect Magic\", \"Mage Armor\", \"Prestidigitation\", \"Identify\", \"Invisibility\"],\n",
            "    \"1st level\": [\"Fireball\", \"Magic Missile\", \"Shield\", \"Cure Wounds\", \"Detect Thoughts\", \"Charm Person\"],\n",
            "    \"2nd level\": [\"Light\", \"Hold Person\", \"Sleep\", \"Committee\", \"Enlarge Person\", \"Teleport\"],\n",
            "    \"3rd level\": [\"Frostbite\", \"Fog Cloud\", \"Disintegrate\", \"Dimension Door\", \"Mirror Image\", \"Misty Step\"]\n",
            "  },\n",
            "  \"equipment\": {\n",
            "    \"weapon\": \"Staff of the Ancients\",\n",
            "    \"armor\": \"Leather Armor\",\n",
            "    \"accessories\": [\"Staff of Power\", \"Ring of Protection\", \"Boots of Speed\"]\n",
            "  },\n",
            "  \"background\": \"Adept\",\n",
            "  \"personality\": \"Curious and inventive, Eldrin is always seeking new knowledge and magical secrets. He is a bit of a loner, preferring the company of books and scrolls to that of other people.\",\n",
            "  \"appearance\": {\n",
            "    \"hair_color\": \"Gray\",\n",
            "    \"hair_style\": \"Long and flowing\",\n",
            "    \"eye_color\": \"Green\",\n",
            "    \"skin_color\": \"Light\",\n",
            "    \"height\": \"6'2\\\"\n"
          ]
        }
      ]
    },
    {
      "cell_type": "code",
      "source": [
        "# One-shot learning: Providing an example of the output structure\n",
        "one_shot_template = \"\"\"Create a short character profile for an RPG game. Make sure to only use this format:\n",
        "\n",
        "{\n",
        "  \"description\": \"A SHORT DESCRIPTION\",\n",
        "  \"name\": \"THE CHARACTER'S NAME\",\n",
        "  \"armor\": \"ONE PIECE OF ARMOR\",\n",
        "  \"weapon\": \"ONE OR MORE WEAPONS\"\n",
        "}\n",
        "\"\"\"\n",
        "one_shot_prompt = [\n",
        "    {\"role\": \"user\", \"content\": one_shot_template}\n",
        "]\n",
        "\n",
        "# Generate the output\n",
        "outputs = pipe(one_shot_prompt)\n",
        "print(outputs[0][\"generated_text\"])"
      ],
      "metadata": {
        "colab": {
          "base_uri": "https://localhost:8080/"
        },
        "id": "JG0v_9_36ADK",
        "outputId": "2761e665-02aa-41f9-ec9a-618c429e44b1"
      },
      "execution_count": 53,
      "outputs": [
        {
          "output_type": "stream",
          "name": "stdout",
          "text": [
            " {\n",
            "  \"description\": \"A cunning rogue with a mysterious past, skilled in stealth and deception.\",\n",
            "  \"name\": \"Shadowcloak\",\n",
            "  \"armor\": \"Leather Hood\",\n",
            "  \"weapon\": \"Dagger\"\n",
            "}\n"
          ]
        }
      ]
    },
    {
      "cell_type": "markdown",
      "source": [
        "##**Grammar: Constrained Sampling**\n"
      ],
      "metadata": {
        "id": "83RvyRSr6FI_"
      }
    },
    {
      "cell_type": "code",
      "source": [
        "import gc\n",
        "import torch\n",
        "del model, tokenizer, pipe\n",
        "\n",
        "# Flush memory\n",
        "gc.collect()\n",
        "torch.cuda.empty_cache()"
      ],
      "metadata": {
        "id": "5RoZQiid6JOV"
      },
      "execution_count": 54,
      "outputs": []
    },
    {
      "cell_type": "code",
      "source": [
        "from llama_cpp.llama import Llama\n",
        "\n",
        "# Load Phi-3\n",
        "llm = Llama.from_pretrained(\n",
        "    repo_id=\"microsoft/Phi-3-mini-4k-instruct-gguf\",\n",
        "    filename=\"*fp16.gguf\",\n",
        "    n_gpu_layers=-1,\n",
        "    n_ctx=2048,\n",
        "    verbose=False\n",
        ")\n"
      ],
      "metadata": {
        "colab": {
          "base_uri": "https://localhost:8080/",
          "height": 66,
          "referenced_widgets": [
            "d821c4620579469bb24a3f340f5399a5",
            "994c18eb9f234a618edaeb1ff15e8272",
            "f2d798c5d7734db1b5e0d04cf4ec5687",
            "abea8febd89942b0828e0bd79a52a1b0",
            "263cfc48147d435fbbbcaee98fc641ef",
            "ee7a7afc7b834ff5a82d2cf21c0086be",
            "a06b9276c7444a9fa9a3b804e5e060d3",
            "252c79366d8648afb77cfd64777b3d83",
            "e0271d55a8f44482a2f92032b331aa34",
            "4228531d09c9448980eb8f5f2d9397fe",
            "648166b5f5fd47e194432691e87efd54"
          ]
        },
        "id": "uYtgRSBy6R07",
        "outputId": "5125d5e3-f50b-480e-dc50-057811429aa3"
      },
      "execution_count": 55,
      "outputs": [
        {
          "output_type": "display_data",
          "data": {
            "text/plain": [
              "Phi-3-mini-4k-instruct-fp16.gguf:   0%|          | 0.00/7.64G [00:00<?, ?B/s]"
            ],
            "application/vnd.jupyter.widget-view+json": {
              "version_major": 2,
              "version_minor": 0,
              "model_id": "d821c4620579469bb24a3f340f5399a5"
            }
          },
          "metadata": {}
        },
        {
          "output_type": "stream",
          "name": "stderr",
          "text": [
            "llama_new_context_with_model: n_ctx_per_seq (2048) < n_ctx_train (4096) -- the full capacity of the model will not be utilized\n"
          ]
        }
      ]
    },
    {
      "cell_type": "code",
      "source": [
        "# Generate output\n",
        "output = llm.create_chat_completion(\n",
        "    messages=[\n",
        "        {\"role\": \"user\", \"content\": \"Create a warrior for an RPG in JSON format.\"},\n",
        "    ],\n",
        "    response_format={\"type\": \"json_object\"},\n",
        "    temperature=0,\n",
        ")['choices'][0]['message'][\"content\"]"
      ],
      "metadata": {
        "id": "myM35Ad86VjR"
      },
      "execution_count": null,
      "outputs": []
    },
    {
      "cell_type": "code",
      "source": [
        "import json\n",
        "\n",
        "# Format as json\n",
        "json_output = json.dumps(json.loads(output), indent=4)\n",
        "print(json_output)"
      ],
      "metadata": {
        "id": "SNzWmNzD6a8X"
      },
      "execution_count": null,
      "outputs": []
    }
  ]
}